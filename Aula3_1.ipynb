{
  "nbformat": 4,
  "nbformat_minor": 0,
  "metadata": {
    "colab": {
      "name": "Aula3.1.ipynb",
      "version": "0.3.2",
      "provenance": [],
      "include_colab_link": true
    },
    "kernelspec": {
      "name": "python3",
      "display_name": "Python 3"
    }
  },
  "cells": [
    {
      "cell_type": "markdown",
      "metadata": {
        "id": "view-in-github",
        "colab_type": "text"
      },
      "source": [
        "<a href=\"https://colab.research.google.com/github/diogoan/mineracaotextoupe/blob/master/Aula3_1.ipynb\" target=\"_parent\"><img src=\"https://colab.research.google.com/assets/colab-badge.svg\" alt=\"Open In Colab\"/></a>"
      ]
    },
    {
      "metadata": {
        "id": "xR_OadsCHcCs",
        "colab_type": "code",
        "outputId": "c872e81a-bced-46f4-f6f5-734f2ff79e82",
        "colab": {
          "base_uri": "https://localhost:8080/",
          "height": 51
        }
      },
      "cell_type": "code",
      "source": [
        "!pip install hashedindex\n",
        "import hashedindex"
      ],
      "execution_count": 2,
      "outputs": [
        {
          "output_type": "stream",
          "text": [
            "Requirement already satisfied: hashedindex in /usr/local/lib/python3.6/dist-packages (0.4.4)\n",
            "Requirement already satisfied: six in /usr/local/lib/python3.6/dist-packages (from hashedindex) (1.11.0)\n"
          ],
          "name": "stdout"
        }
      ]
    },
    {
      "metadata": {
        "id": "WT_EKbLMHp25",
        "colab_type": "code",
        "colab": {}
      },
      "cell_type": "code",
      "source": [
        "index = hashedindex.HashedIndex()\n",
        "\n",
        "index.add_term_occurrence('hello', 'document1.txt')\n",
        "index.add_term_occurrence('world', 'document1.txt')"
      ],
      "execution_count": 0,
      "outputs": []
    },
    {
      "metadata": {
        "id": "GpiAym-QIoOV",
        "colab_type": "code",
        "outputId": "a8e3f8ac-6ca1-42da-9483-6badc9a8938b",
        "colab": {
          "base_uri": "https://localhost:8080/",
          "height": 34
        }
      },
      "cell_type": "code",
      "source": [
        "index.get_documents('hello')"
      ],
      "execution_count": 4,
      "outputs": [
        {
          "output_type": "execute_result",
          "data": {
            "text/plain": [
              "Counter({'document1.txt': 1})"
            ]
          },
          "metadata": {
            "tags": []
          },
          "execution_count": 4
        }
      ]
    },
    {
      "metadata": {
        "id": "U7u_EIhKwrhV",
        "colab_type": "code",
        "outputId": "90ffb5fd-b385-4a5c-a878-c72468b5034d",
        "colab": {
          "base_uri": "https://localhost:8080/",
          "height": 51
        }
      },
      "cell_type": "code",
      "source": [
        "index.items()"
      ],
      "execution_count": 5,
      "outputs": [
        {
          "output_type": "execute_result",
          "data": {
            "text/plain": [
              "{'hello': Counter({'document1.txt': 1}),\n",
              " 'world': Counter({'document1.txt': 1})}"
            ]
          },
          "metadata": {
            "tags": []
          },
          "execution_count": 5
        }
      ]
    },
    {
      "metadata": {
        "id": "xBl0NIXywviT",
        "colab_type": "code",
        "colab": {}
      },
      "cell_type": "code",
      "source": [
        "example = 'The Quick Brown Fox Jumps Over The Lazy Dog'\n",
        "\n",
        "for term in example.split():\n",
        "    index.add_term_occurrence(term, 'document2.txt')"
      ],
      "execution_count": 0,
      "outputs": []
    },
    {
      "metadata": {
        "id": "03u2jHHWw4pD",
        "colab_type": "code",
        "outputId": "5e0adc57-7a6b-4101-df25-83831a28e529",
        "colab": {
          "base_uri": "https://localhost:8080/",
          "height": 187
        }
      },
      "cell_type": "code",
      "source": [
        "index.items()"
      ],
      "execution_count": 9,
      "outputs": [
        {
          "output_type": "execute_result",
          "data": {
            "text/plain": [
              "{'Brown': Counter({'document2.txt': 2}),\n",
              " 'Dog': Counter({'document2.txt': 2}),\n",
              " 'Fox': Counter({'document2.txt': 2}),\n",
              " 'Jumps': Counter({'document2.txt': 2}),\n",
              " 'Lazy': Counter({'document2.txt': 2}),\n",
              " 'Over': Counter({'document2.txt': 2}),\n",
              " 'Quick': Counter({'document2.txt': 2}),\n",
              " 'The': Counter({'document2.txt': 4}),\n",
              " 'hello': Counter({'document1.txt': 1}),\n",
              " 'world': Counter({'document1.txt': 1})}"
            ]
          },
          "metadata": {
            "tags": []
          },
          "execution_count": 9
        }
      ]
    },
    {
      "metadata": {
        "id": "eiwqLBhyY-Se",
        "colab_type": "code",
        "outputId": "0d6fdd49-3ea9-4253-acf5-65b96b5f903d",
        "colab": {
          "base_uri": "https://localhost:8080/",
          "height": 34
        }
      },
      "cell_type": "code",
      "source": [
        "index.get_documents('Quick')"
      ],
      "execution_count": 10,
      "outputs": [
        {
          "output_type": "execute_result",
          "data": {
            "text/plain": [
              "Counter({'document2.txt': 2})"
            ]
          },
          "metadata": {
            "tags": []
          },
          "execution_count": 10
        }
      ]
    }
  ]
}