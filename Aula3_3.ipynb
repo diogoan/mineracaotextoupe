{
  "nbformat": 4,
  "nbformat_minor": 0,
  "metadata": {
    "colab": {
      "name": "Aula3.3.ipynb",
      "version": "0.3.2",
      "provenance": [],
      "include_colab_link": true
    },
    "kernelspec": {
      "name": "python3",
      "display_name": "Python 3"
    }
  },
  "cells": [
    {
      "cell_type": "markdown",
      "metadata": {
        "id": "view-in-github",
        "colab_type": "text"
      },
      "source": [
        "<a href=\"https://colab.research.google.com/github/diogoan/mineracaotextoupe/blob/master/Aula3_3.ipynb\" target=\"_parent\"><img src=\"https://colab.research.google.com/assets/colab-badge.svg\" alt=\"Open In Colab\"/></a>"
      ]
    },
    {
      "metadata": {
        "id": "xR_OadsCHcCs",
        "colab_type": "code",
        "outputId": "f1e7d648-cc60-4fd8-8e88-448afb489ee6",
        "colab": {
          "base_uri": "https://localhost:8080/",
          "height": 84
        }
      },
      "cell_type": "code",
      "source": [
        "import os\n",
        "os.system(\"pip install sumy\")\n",
        "import nltk\n",
        "nltk.download('punkt')"
      ],
      "execution_count": 0,
      "outputs": [
        {
          "output_type": "stream",
          "text": [
            "[nltk_data] Downloading package punkt to /root/nltk_data...\n",
            "[nltk_data]   Package punkt is already up-to-date!\n"
          ],
          "name": "stdout"
        },
        {
          "output_type": "execute_result",
          "data": {
            "text/plain": [
              "True"
            ]
          },
          "metadata": {
            "tags": []
          },
          "execution_count": 6
        }
      ]
    },
    {
      "metadata": {
        "id": "WT_EKbLMHp25",
        "colab_type": "code",
        "colab": {}
      },
      "cell_type": "code",
      "source": [
        "from __future__ import absolute_import\n",
        "from __future__ import division, print_function, unicode_literals\n",
        "\n",
        "from sumy.parsers.html import HtmlParser\n",
        "from sumy.parsers.plaintext import PlaintextParser\n",
        "from sumy.nlp.tokenizers import Tokenizer\n",
        "from sumy.summarizers.lsa import LsaSummarizer as Summarizer\n",
        "from sumy.nlp.stemmers import Stemmer\n",
        "from sumy.utils import get_stop_words"
      ],
      "execution_count": 0,
      "outputs": []
    },
    {
      "metadata": {
        "id": "GpiAym-QIoOV",
        "colab_type": "code",
        "outputId": "6b4cce3a-a49f-4e8f-81d0-1998bab03919",
        "colab": {
          "base_uri": "https://localhost:8080/",
          "height": 91
        }
      },
      "cell_type": "code",
      "source": [
        "LANGUAGE = \"portuguese\"\n",
        "SENTENCES_COUNT = 2\n",
        "\n",
        "\n",
        "if __name__ == \"__main__\":\n",
        "    url = \"https://globoesporte.globo.com/motor/formula-1/noticia/lewis-hamilton-esmaga-recorde-da-pista-e-conquista-a-pole-na-abertura-da-formula-1-na-australia.ghtml\"\n",
        "    parser = HtmlParser.from_url(url, Tokenizer(LANGUAGE))\n",
        "    # para documentos\n",
        "    # parser = PlaintextParser.from_file(\"document.txt\", Tokenizer(LANGUAGE))\n",
        "    stemmer = Stemmer(LANGUAGE)\n",
        "\n",
        "    summarizer = Summarizer(stemmer)\n",
        "    summarizer.stop_words = get_stop_words(LANGUAGE)\n",
        "\n",
        "    for sentence in summarizer(parser.document, SENTENCES_COUNT):\n",
        "        print(sentence)"
      ],
      "execution_count": 0,
      "outputs": [
        {
          "output_type": "stream",
          "text": [
            "Charles Leclerc foi o primeiro a fazer uma volta competitiva, em 1m21s739, mas logo foi superado por Max Verstappen e Valtteri Bottas, que baixou para 1m21s241, se aproximando do tempo da pole position do ano passado.\n",
            "A Mercedes voltou a mostrar força logo no começo do Q3, e Valtteri Bottas destruiu o recorde da pista ao cravar o impressionante tempo de 1m20s598, batendo Hamilton em 0s457 - o inglês errou na sua primeira tentativa.\n"
          ],
          "name": "stdout"
        }
      ]
    }
  ]
}